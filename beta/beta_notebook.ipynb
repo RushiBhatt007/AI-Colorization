{
 "cells": [
  {
   "cell_type": "code",
   "execution_count": 1,
   "metadata": {},
   "outputs": [
    {
     "name": "stderr",
     "output_type": "stream",
     "text": [
      "Using TensorFlow backend.\n"
     ]
    }
   ],
   "source": [
    "from keras.layers import Conv2D, Conv2DTranspose, UpSampling2D\n",
    "from keras.layers import Activation, Dense, Dropout, Flatten, InputLayer\n",
    "from keras.layers.normalization import BatchNormalization\n",
    "from keras.callbacks import TensorBoard\n",
    "from keras.models import Sequential, load_model\n",
    "from keras.preprocessing.image import ImageDataGenerator, array_to_img, img_to_array, load_img\n",
    "from skimage.color import rgb2lab, lab2rgb, rgb2gray\n",
    "from skimage.io import imsave\n",
    "import numpy as np\n",
    "import os\n",
    "import random\n",
    "import tensorflow as tf"
   ]
  },
  {
   "cell_type": "code",
   "execution_count": 9,
   "metadata": {},
   "outputs": [],
   "source": [
    "# Get images\n",
    "X = []\n",
    "list_filename = os.listdir('../images/Train/')\n",
    "for filename in list_filename[0:100]:\n",
    "    X.append(img_to_array(load_img('../images/Train/'+filename)))\n",
    "X = np.array(X, dtype=float)\n",
    "\n",
    "# Set up train and test data\n",
    "split = int(0.95*len(X))\n",
    "Xtrain = X[:split]\n",
    "Xtrain = 1.0/255*Xtrain"
   ]
  },
  {
   "cell_type": "code",
   "execution_count": 10,
   "metadata": {},
   "outputs": [],
   "source": [
    "model = Sequential()\n",
    "model.add(InputLayer(input_shape=(256, 256, 1)))\n",
    "model.add(Conv2D(64, (3, 3), activation='relu', padding='same'))\n",
    "model.add(Conv2D(64, (3, 3), activation='relu', padding='same', strides=2))\n",
    "model.add(Conv2D(128, (3, 3), activation='relu', padding='same'))\n",
    "model.add(Conv2D(128, (3, 3), activation='relu', padding='same', strides=2))\n",
    "model.add(Conv2D(256, (3, 3), activation='relu', padding='same'))\n",
    "model.add(Conv2D(256, (3, 3), activation='relu', padding='same', strides=2))\n",
    "model.add(Conv2D(512, (3, 3), activation='relu', padding='same'))\n",
    "model.add(Conv2D(256, (3, 3), activation='relu', padding='same'))\n",
    "model.add(Conv2D(128, (3, 3), activation='relu', padding='same'))\n",
    "model.add(UpSampling2D((2, 2)))\n",
    "model.add(Conv2D(64, (3, 3), activation='relu', padding='same'))\n",
    "model.add(UpSampling2D((2, 2)))\n",
    "model.add(Conv2D(32, (3, 3), activation='relu', padding='same'))\n",
    "model.add(Conv2D(2, (3, 3), activation='tanh', padding='same'))\n",
    "model.add(UpSampling2D((2, 2)))\n",
    "model.compile(optimizer='rmsprop', loss='mse')"
   ]
  },
  {
   "cell_type": "code",
   "execution_count": null,
   "metadata": {},
   "outputs": [],
   "source": [
    "# Image transformer\n",
    "datagen = ImageDataGenerator(shear_range=0.2, zoom_range=0.2, rotation_range=20, horizontal_flip=True)\n",
    "\n",
    "# Generate training data\n",
    "batch_size = 10\n",
    "def image_a_b_gen(batch_size):\n",
    "    for batch in datagen.flow(Xtrain, batch_size=batch_size):\n",
    "        lab_batch = rgb2lab(batch)\n",
    "        X_batch = lab_batch[:,:,:,0]\n",
    "        Y_batch = lab_batch[:,:,:,1:] / 128\n",
    "        yield (X_batch.reshape(X_batch.shape+(1,)), Y_batch)\n",
    "\n",
    "# Train model      \n",
    "tensorboard = TensorBoard(log_dir=\"output/first_run\")\n",
    "model.fit_generator(image_a_b_gen(batch_size), callbacks=[tensorboard], epochs=1, steps_per_epoch=10)"
   ]
  },
  {
   "cell_type": "code",
   "execution_count": 19,
   "metadata": {},
   "outputs": [],
   "source": [
    "# Save model\n",
    "model_json = model.to_json()\n",
    "with open(\"model.json\", \"w\") as json_file:\n",
    "    json_file.write(model_json)\n",
    "model.save_weights(\"model.h5\")"
   ]
  },
  {
   "cell_type": "code",
   "execution_count": 21,
   "metadata": {},
   "outputs": [
    {
     "name": "stdout",
     "output_type": "stream",
     "text": [
      "5/5 [==============================] - 0s 81ms/step\n",
      "0.016548306867480277\n"
     ]
    }
   ],
   "source": [
    "# Test images\n",
    "Xtest = rgb2lab(1.0/255*X[split:])[:,:,:,0]\n",
    "Xtest = Xtest.reshape(Xtest.shape+(1,))\n",
    "Ytest = rgb2lab(1.0/255*X[split:])[:,:,:,1:]\n",
    "Ytest = Ytest / 128\n",
    "print(model.evaluate(Xtest, Ytest, batch_size=batch_size))"
   ]
  },
  {
   "cell_type": "code",
   "execution_count": 25,
   "metadata": {},
   "outputs": [
    {
     "name": "stderr",
     "output_type": "stream",
     "text": [
      "C:\\Users\\RUSHI\\Anaconda Python\\envs\\tf-gpu\\lib\\site-packages\\skimage\\color\\colorconv.py:1068: UserWarning: Color data out of range: Z < 0 in 48653 pixels\n",
      "  return xyz2rgb(lab2xyz(lab, illuminant, observer))\n",
      "W0623 10:08:57.172533 22664 util.py:58] Lossy conversion from float64 to uint8. Range [0, 1]. Convert image to uint8 prior to saving to suppress this warning.\n",
      "C:\\Users\\RUSHI\\Anaconda Python\\envs\\tf-gpu\\lib\\site-packages\\skimage\\color\\colorconv.py:1068: UserWarning: Color data out of range: Z < 0 in 62136 pixels\n",
      "  return xyz2rgb(lab2xyz(lab, illuminant, observer))\n",
      "W0623 10:08:57.407903 22664 util.py:58] Lossy conversion from float64 to uint8. Range [0, 1]. Convert image to uint8 prior to saving to suppress this warning.\n",
      "C:\\Users\\RUSHI\\Anaconda Python\\envs\\tf-gpu\\lib\\site-packages\\skimage\\color\\colorconv.py:1068: UserWarning: Color data out of range: Z < 0 in 44046 pixels\n",
      "  return xyz2rgb(lab2xyz(lab, illuminant, observer))\n",
      "W0623 10:08:57.491679 22664 util.py:58] Lossy conversion from float64 to uint8. Range [0, 1]. Convert image to uint8 prior to saving to suppress this warning.\n",
      "C:\\Users\\RUSHI\\Anaconda Python\\envs\\tf-gpu\\lib\\site-packages\\skimage\\color\\colorconv.py:1068: UserWarning: Color data out of range: Z < 0 in 34608 pixels\n",
      "  return xyz2rgb(lab2xyz(lab, illuminant, observer))\n",
      "W0623 10:08:57.710096 22664 util.py:58] Lossy conversion from float64 to uint8. Range [0, 1]. Convert image to uint8 prior to saving to suppress this warning.\n",
      "C:\\Users\\RUSHI\\Anaconda Python\\envs\\tf-gpu\\lib\\site-packages\\skimage\\color\\colorconv.py:1068: UserWarning: Color data out of range: Z < 0 in 58665 pixels\n",
      "  return xyz2rgb(lab2xyz(lab, illuminant, observer))\n",
      "W0623 10:08:57.835787 22664 util.py:58] Lossy conversion from float64 to uint8. Range [0, 1]. Convert image to uint8 prior to saving to suppress this warning.\n",
      "C:\\Users\\RUSHI\\Anaconda Python\\envs\\tf-gpu\\lib\\site-packages\\skimage\\color\\colorconv.py:1068: UserWarning: Color data out of range: Z < 0 in 31230 pixels\n",
      "  return xyz2rgb(lab2xyz(lab, illuminant, observer))\n",
      "W0623 10:08:58.017274 22664 util.py:58] Lossy conversion from float64 to uint8. Range [0, 1]. Convert image to uint8 prior to saving to suppress this warning.\n",
      "C:\\Users\\RUSHI\\Anaconda Python\\envs\\tf-gpu\\lib\\site-packages\\skimage\\color\\colorconv.py:1068: UserWarning: Color data out of range: Z < 0 in 30851 pixels\n",
      "  return xyz2rgb(lab2xyz(lab, illuminant, observer))\n",
      "W0623 10:08:58.228710 22664 util.py:58] Lossy conversion from float64 to uint8. Range [0, 1]. Convert image to uint8 prior to saving to suppress this warning.\n",
      "C:\\Users\\RUSHI\\Anaconda Python\\envs\\tf-gpu\\lib\\site-packages\\skimage\\color\\colorconv.py:1068: UserWarning: Color data out of range: Z < 0 in 24123 pixels\n",
      "  return xyz2rgb(lab2xyz(lab, illuminant, observer))\n",
      "W0623 10:08:58.478043 22664 util.py:58] Lossy conversion from float64 to uint8. Range [0, 1]. Convert image to uint8 prior to saving to suppress this warning.\n"
     ]
    }
   ],
   "source": [
    "color_me = []\n",
    "for filename in os.listdir('../testdata/Validate/'):\n",
    "    color_me.append(img_to_array(load_img('../testdata/Validate/'+filename)))\n",
    "color_me = np.array(color_me, dtype=float)\n",
    "color_me = rgb2lab(1.0/255*color_me)[:,:,:,0]\n",
    "color_me = color_me.reshape(color_me.shape+(1,))\n",
    "\n",
    "# Test model\n",
    "output = model.predict(color_me)\n",
    "output = output * 128\n",
    "\n",
    "# Output colorizations\n",
    "for i in range(len(output)):\n",
    "    cur = np.zeros((256, 256, 3))\n",
    "    cur[:,:,0] = color_me[i][:,:,0]\n",
    "    cur[:,:,1:] = output[i]\n",
    "    imsave(\"result/img_\"+str(i)+\".png\", lab2rgb(cur))"
   ]
  },
  {
   "cell_type": "code",
   "execution_count": 29,
   "metadata": {},
   "outputs": [
    {
     "data": {
      "text/plain": [
       "array([[[1.        , 0.54976116, 0.47629338],\n",
       "        [1.        , 0.55431219, 0.47985127],\n",
       "        [1.        , 0.47694176, 0.27988346],\n",
       "        ...,\n",
       "        [1.        , 0.56659113, 0.44284055],\n",
       "        [1.        , 0.75364566, 0.64715581],\n",
       "        [1.        , 0.74969469, 0.6434793 ]],\n",
       "\n",
       "       [[1.        , 0.54976116, 0.47629338],\n",
       "        [1.        , 0.54976116, 0.47629338],\n",
       "        [1.        , 0.47190072, 0.27605908],\n",
       "        ...,\n",
       "        [1.        , 0.56848777, 0.44435745],\n",
       "        [1.        , 0.75927547, 0.65239737],\n",
       "        [1.        , 0.76549275, 0.65818972]],\n",
       "\n",
       "       [[1.        , 0.56843092, 0.56905042],\n",
       "        [1.        , 0.56843092, 0.56905042],\n",
       "        [1.        , 0.55744836, 0.34648105],\n",
       "        ...,\n",
       "        [1.        , 0.6523716 , 0.34567629],\n",
       "        [1.        , 0.81152418, 0.46739006],\n",
       "        [1.        , 0.80764187, 0.46373453]],\n",
       "\n",
       "       ...,\n",
       "\n",
       "       [[1.        , 0.70599056, 0.65384419],\n",
       "        [1.        , 0.70198976, 0.65015808],\n",
       "        [1.        , 0.77162563, 0.41246363],\n",
       "        ...,\n",
       "        [1.        , 0.79443324, 0.34924435],\n",
       "        [1.        , 0.86161966, 0.44582129],\n",
       "        [1.        , 0.86161966, 0.44582129]],\n",
       "\n",
       "       [[1.        , 0.83674668, 0.7845285 ],\n",
       "        [1.        , 0.84063443, 0.78832599],\n",
       "        [1.        , 0.85989011, 0.70426129],\n",
       "        ...,\n",
       "        [1.        , 0.87183283, 0.58352734],\n",
       "        [1.        , 0.86854671, 0.61512901],\n",
       "        [1.        , 0.87630482, 0.62250938]],\n",
       "\n",
       "       [[1.        , 0.75119955, 0.70109071],\n",
       "        [1.        , 0.75508892, 0.70487865],\n",
       "        [1.        , 0.7744915 , 0.62216319],\n",
       "        ...,\n",
       "        [1.        , 0.85631834, 0.56881302],\n",
       "        [1.        , 0.84527466, 0.59300043],\n",
       "        [1.        , 0.84139632, 0.58931417]]])"
      ]
     },
     "execution_count": 29,
     "metadata": {},
     "output_type": "execute_result"
    }
   ],
   "source": [
    "lab2rgb(cur)"
   ]
  },
  {
   "cell_type": "code",
   "execution_count": null,
   "metadata": {},
   "outputs": [],
   "source": []
  }
 ],
 "metadata": {
  "kernelspec": {
   "display_name": "Python 3",
   "language": "python",
   "name": "python3"
  },
  "language_info": {
   "codemirror_mode": {
    "name": "ipython",
    "version": 3
   },
   "file_extension": ".py",
   "mimetype": "text/x-python",
   "name": "python",
   "nbconvert_exporter": "python",
   "pygments_lexer": "ipython3",
   "version": "3.7.3"
  }
 },
 "nbformat": 4,
 "nbformat_minor": 2
}
